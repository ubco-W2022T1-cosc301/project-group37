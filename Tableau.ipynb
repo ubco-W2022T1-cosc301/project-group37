{
 "cells": [
  {
   "cell_type": "code",
   "execution_count": 1,
   "id": "d78e258a",
   "metadata": {},
   "outputs": [],
   "source": [
    "import pandas as pd\n",
    "import numpy as np\n",
    "import plotly as go\n",
    "import matplotlib.pylab as plt\n",
    "import seaborn as sns \n",
    "import project_functions2 as p2\n",
    "\n",
    "fundamentals_Df = pd.read_csv('../data/raw/fundamentals.csv')\n",
    "pricesplit_Df = pd.read_csv('../data/raw/prices-split-adjusted.csv')\n",
    "prices_Df = pd.read_csv('../data/raw/prices.csv')\n",
    "securities_Df = pd.read_csv('../data/raw/securities.csv')"
   ]
  },
  {
   "cell_type": "code",
   "execution_count": 2,
   "id": "4b922bbe",
   "metadata": {},
   "outputs": [
    {
     "ename": "NameError",
     "evalue": "name 'sorted_pricesplit' is not defined",
     "output_type": "error",
     "traceback": [
      "\u001b[1;31m---------------------------------------------------------------------------\u001b[0m",
      "\u001b[1;31mNameError\u001b[0m                                 Traceback (most recent call last)",
      "Input \u001b[1;32mIn [2]\u001b[0m, in \u001b[0;36m<module>\u001b[1;34m\u001b[0m\n\u001b[0;32m      1\u001b[0m sorted_prices\u001b[38;5;241m=\u001b[39mprices_Df\u001b[38;5;241m.\u001b[39msort_values(by \u001b[38;5;241m=\u001b[39m [\u001b[38;5;124m\"\u001b[39m\u001b[38;5;124mdate\u001b[39m\u001b[38;5;124m\"\u001b[39m], ascending \u001b[38;5;241m=\u001b[39m \u001b[38;5;28;01mTrue\u001b[39;00m)\n\u001b[1;32m----> 2\u001b[0m \u001b[43msorted_pricesplit\u001b[49m\u001b[38;5;241m.\u001b[39mto_csv(\u001b[38;5;124m'\u001b[39m\u001b[38;5;124msorted_prices.csv\u001b[39m\u001b[38;5;124m'\u001b[39m, index \u001b[38;5;241m=\u001b[39m\u001b[38;5;28;01mFalse\u001b[39;00m)\n",
      "\u001b[1;31mNameError\u001b[0m: name 'sorted_pricesplit' is not defined"
     ]
    }
   ],
   "source": [
    "sorted_prices=prices_Df.sort_values(by = [\"date\"], ascending = True)\n",
    "sorted_prices.to_csv('sorted_prices.csv', index =False)"
   ]
  },
  {
   "cell_type": "code",
   "execution_count": null,
   "id": "918ccda8",
   "metadata": {},
   "outputs": [],
   "source": []
  }
 ],
 "metadata": {
  "kernelspec": {
   "display_name": "Python 3 (ipykernel)",
   "language": "python",
   "name": "python3"
  },
  "language_info": {
   "codemirror_mode": {
    "name": "ipython",
    "version": 3
   },
   "file_extension": ".py",
   "mimetype": "text/x-python",
   "name": "python",
   "nbconvert_exporter": "python",
   "pygments_lexer": "ipython3",
   "version": "3.9.13"
  }
 },
 "nbformat": 4,
 "nbformat_minor": 5
}
