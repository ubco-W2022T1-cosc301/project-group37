{
 "cells": [
  {
   "cell_type": "markdown",
   "metadata": {
    "tags": []
   },
   "source": [
    "# Zakhar Malov"
   ]
  },
  {
   "cell_type": "markdown",
   "metadata": {},
   "source": [
    "## Research question/interests\n",
    "\n",
    "I will research how decisions  made within local markets affect global trends and the whole economy itself."
   ]
  },
  {
   "cell_type": "code",
   "execution_count": 1,
   "metadata": {},
   "outputs": [],
   "source": [
    "import pandas as pd\n",
    "\n",
    "fundamentalsDf = pd.read_csv('../data/raw/fundamentals.csv')\n",
    "pricesplitDf = pd.read_csv('../data/raw/prices-split-adjusted.csv')\n",
    "pricesDf = pd.read_csv('../data/raw/prices.csv')\n",
    "securitiesDf = pd.read_csv('../data/raw/securities.csv')"
   ]
  },
  {
   "cell_type": "code",
   "execution_count": null,
   "metadata": {},
   "outputs": [],
   "source": []
  }
 ],
 "metadata": {
  "kernelspec": {
   "display_name": "Python 3",
   "language": "python",
   "name": "python3"
  },
  "language_info": {
   "codemirror_mode": {
    "name": "ipython",
    "version": 3
   },
   "file_extension": ".py",
   "mimetype": "text/x-python",
   "name": "python",
   "nbconvert_exporter": "python",
   "pygments_lexer": "ipython3",
   "version": "3.9.12"
  },
  "vscode": {
   "interpreter": {
    "hash": "20e5e93f98dd24735713182a33032ec65336834a433d2dcd477e96f0a319abeb"
   }
  }
 },
 "nbformat": 4,
 "nbformat_minor": 4
}
