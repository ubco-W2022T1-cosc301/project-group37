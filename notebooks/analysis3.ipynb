{
 "cells": [
  {
   "cell_type": "markdown",
   "metadata": {},
   "source": [
    "# Zakhar Malov"
   ]
  },
  {
   "cell_type": "markdown",
   "metadata": {},
   "source": [
    "## Research question/interests\n",
    "\n",
    "I will research how decisions  made within local markets affect global trends and the whole economy itself."
   ]
  }
 ],
 "metadata": {
  "kernelspec": {
   "display_name": "Python 3.6.0 64-bit",
   "language": "python",
   "name": "python3"
  },
  "language_info": {
   "name": "python",
   "version": "3.6.0"
  },
  "vscode": {
   "interpreter": {
    "hash": "20e5e93f98dd24735713182a33032ec65336834a433d2dcd477e96f0a319abeb"
   }
  }
 },
 "nbformat": 4,
 "nbformat_minor": 2
}
