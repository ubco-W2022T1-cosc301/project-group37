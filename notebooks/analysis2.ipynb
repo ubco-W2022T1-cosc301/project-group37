{
 "cells": [
  {
   "cell_type": "markdown",
   "metadata": {},
   "source": [
    "# Ashwin Ramesh"
   ]
  },
  {
   "cell_type": "markdown",
   "metadata": {},
   "source": [
    "## Research question/interests\n",
    "\n",
    "I would like to research the effects of global events on market sentiment. I would like to explore how the market reacts based on events that occured during that period in order to search for trends."
   ]
  },
  {
   "cell_type": "code",
   "execution_count": null,
   "metadata": {},
   "outputs": [],
   "source": [
    "import pandas as pd\n",
    "\n",
    "fundamentals_DF = pd.read_csv('../data/raw/fundamentals.csv')\n",
    "pricesplit_Df = pd.read_csv('../data/raw/prices-split-adjusted.csv')\n",
    "prices_Df = pd.read_csv('../data/raw/prices.csv')\n",
    "securities_Df = pd.read_csv('../data/raw/securities.csv')\n",
    "\n",
    "print(fundamentalsDf.to_string())"
   ]
  }
 ],
 "metadata": {
  "kernelspec": {
   "display_name": "Python 3 (ipykernel)",
   "language": "python",
   "name": "python3"
  },
  "language_info": {
   "codemirror_mode": {
    "name": "ipython",
    "version": 3
   },
   "file_extension": ".py",
   "mimetype": "text/x-python",
   "name": "python",
   "nbconvert_exporter": "python",
   "pygments_lexer": "ipython3",
   "version": "3.9.13"
  },
  "vscode": {
   "interpreter": {
    "hash": "8f8b4b4e3e62b639b251d1c535d200366b8387000c1d4bce0694f32dda5c6b47"
   }
  }
 },
 "nbformat": 4,
 "nbformat_minor": 2
}
