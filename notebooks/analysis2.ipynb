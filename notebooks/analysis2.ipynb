{
 "cells": [
  {
   "cell_type": "markdown",
   "metadata": {},
   "source": [
    "# Ashwin Ramesh"
   ]
  },
  {
   "cell_type": "markdown",
   "metadata": {},
   "source": [
    "## Research question/interests\n",
    "\n",
    "I would like to research the effects of global events on market sentiment. I would like to explore how the market reacts based on events that occured during that period in order to search for trends."
   ]
  }
 ],
 "metadata": {
  "kernelspec": {
   "display_name": "Python 3.9.13 ('base')",
   "language": "python",
   "name": "python3"
  },
  "language_info": {
   "name": "python",
   "version": "3.9.13"
  },
  "vscode": {
   "interpreter": {
    "hash": "8f8b4b4e3e62b639b251d1c535d200366b8387000c1d4bce0694f32dda5c6b47"
   }
  }
 },
 "nbformat": 4,
 "nbformat_minor": 2
}
