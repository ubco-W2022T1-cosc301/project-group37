{
 "cells": [
  {
   "cell_type": "markdown",
   "metadata": {},
   "source": [
    "# Ashwin Ramesh"
   ]
  },
  {
   "cell_type": "markdown",
   "metadata": {},
   "source": [
    "## Research question/interests\n",
    "\n",
    "I would like to research the effects of stock splits on the top tech stocks between 2010 and 2016. Namely Apple, Microsoft, Facebook and Google stock. I would like to analyze how the trading volume was affected by the split and if there was a directional bias associated with the stock split (If it was a positive or negative bias)."
   ]
  },
  {
   "cell_type": "code",
   "execution_count": 1,
   "metadata": {},
   "outputs": [],
   "source": [
    "import pandas as pd\n",
    "import numpy as np\n",
    "import plotly as go\n",
    "import matplotlib.pylab as plt\n",
    "import seaborn as sns \n",
    "\n",
    "fundamentals_Df = pd.read_csv('../data/raw/fundamentals.csv')\n",
    "pricesplit_Df = pd.read_csv('../data/raw/prices-split-adjusted.csv')\n",
    "prices_Df = pd.read_csv('../data/raw/prices.csv')\n",
    "securities_Df = pd.read_csv('../data/raw/securities.csv')\n",
    "\n",
    "\n"
   ]
  },
  {
   "cell_type": "code",
   "execution_count": 2,
   "metadata": {},
   "outputs": [
    {
     "data": {
      "text/plain": [
       "(851264, 7)"
      ]
     },
     "execution_count": 2,
     "metadata": {},
     "output_type": "execute_result"
    }
   ],
   "source": [
    "pricesplit_Df.shape"
   ]
  },
  {
   "cell_type": "code",
   "execution_count": 3,
   "metadata": {},
   "outputs": [
    {
     "data": {
      "text/html": [
       "<div>\n",
       "<style scoped>\n",
       "    .dataframe tbody tr th:only-of-type {\n",
       "        vertical-align: middle;\n",
       "    }\n",
       "\n",
       "    .dataframe tbody tr th {\n",
       "        vertical-align: top;\n",
       "    }\n",
       "\n",
       "    .dataframe thead th {\n",
       "        text-align: right;\n",
       "    }\n",
       "</style>\n",
       "<table border=\"1\" class=\"dataframe\">\n",
       "  <thead>\n",
       "    <tr style=\"text-align: right;\">\n",
       "      <th></th>\n",
       "      <th>date</th>\n",
       "      <th>symbol</th>\n",
       "      <th>open</th>\n",
       "      <th>close</th>\n",
       "      <th>low</th>\n",
       "      <th>high</th>\n",
       "      <th>volume</th>\n",
       "    </tr>\n",
       "  </thead>\n",
       "  <tbody>\n",
       "    <tr>\n",
       "      <th>0</th>\n",
       "      <td>2016-01-05</td>\n",
       "      <td>WLTW</td>\n",
       "      <td>123.430000</td>\n",
       "      <td>125.839996</td>\n",
       "      <td>122.309998</td>\n",
       "      <td>126.250000</td>\n",
       "      <td>2163600.0</td>\n",
       "    </tr>\n",
       "    <tr>\n",
       "      <th>1</th>\n",
       "      <td>2016-01-06</td>\n",
       "      <td>WLTW</td>\n",
       "      <td>125.239998</td>\n",
       "      <td>119.980003</td>\n",
       "      <td>119.940002</td>\n",
       "      <td>125.540001</td>\n",
       "      <td>2386400.0</td>\n",
       "    </tr>\n",
       "    <tr>\n",
       "      <th>2</th>\n",
       "      <td>2016-01-07</td>\n",
       "      <td>WLTW</td>\n",
       "      <td>116.379997</td>\n",
       "      <td>114.949997</td>\n",
       "      <td>114.930000</td>\n",
       "      <td>119.739998</td>\n",
       "      <td>2489500.0</td>\n",
       "    </tr>\n",
       "    <tr>\n",
       "      <th>3</th>\n",
       "      <td>2016-01-08</td>\n",
       "      <td>WLTW</td>\n",
       "      <td>115.480003</td>\n",
       "      <td>116.620003</td>\n",
       "      <td>113.500000</td>\n",
       "      <td>117.440002</td>\n",
       "      <td>2006300.0</td>\n",
       "    </tr>\n",
       "    <tr>\n",
       "      <th>4</th>\n",
       "      <td>2016-01-11</td>\n",
       "      <td>WLTW</td>\n",
       "      <td>117.010002</td>\n",
       "      <td>114.970001</td>\n",
       "      <td>114.089996</td>\n",
       "      <td>117.330002</td>\n",
       "      <td>1408600.0</td>\n",
       "    </tr>\n",
       "  </tbody>\n",
       "</table>\n",
       "</div>"
      ],
      "text/plain": [
       "         date symbol        open       close         low        high  \\\n",
       "0  2016-01-05   WLTW  123.430000  125.839996  122.309998  126.250000   \n",
       "1  2016-01-06   WLTW  125.239998  119.980003  119.940002  125.540001   \n",
       "2  2016-01-07   WLTW  116.379997  114.949997  114.930000  119.739998   \n",
       "3  2016-01-08   WLTW  115.480003  116.620003  113.500000  117.440002   \n",
       "4  2016-01-11   WLTW  117.010002  114.970001  114.089996  117.330002   \n",
       "\n",
       "      volume  \n",
       "0  2163600.0  \n",
       "1  2386400.0  \n",
       "2  2489500.0  \n",
       "3  2006300.0  \n",
       "4  1408600.0  "
      ]
     },
     "execution_count": 3,
     "metadata": {},
     "output_type": "execute_result"
    }
   ],
   "source": [
    "pricesplit_Df.head()"
   ]
  },
  {
   "cell_type": "markdown",
   "metadata": {},
   "source": [
    "I noticed that the data is not ordered by date. This would make analysis difficult and hence it must be corrected as shown below. "
   ]
  },
  {
   "cell_type": "code",
   "execution_count": 4,
   "metadata": {},
   "outputs": [],
   "source": [
    "sorted_pricesplit=pricesplit_Df.sort_values(by = [\"date\"], ascending = True)\n",
    "sorted_pricesplit.to_csv('sorted_pricesplit.csv', index =False)"
   ]
  },
  {
   "cell_type": "code",
   "execution_count": 5,
   "metadata": {},
   "outputs": [
    {
     "data": {
      "text/plain": [
       "date        1762\n",
       "symbol       501\n",
       "open       97522\n",
       "close      98520\n",
       "low        97470\n",
       "high       97784\n",
       "volume    171073\n",
       "dtype: int64"
      ]
     },
     "execution_count": 5,
     "metadata": {},
     "output_type": "execute_result"
    }
   ],
   "source": [
    "sorted_pricesplit.nunique(axis=0)"
   ]
  },
  {
   "cell_type": "code",
   "execution_count": 6,
   "metadata": {},
   "outputs": [
    {
     "data": {
      "text/html": [
       "<div>\n",
       "<style scoped>\n",
       "    .dataframe tbody tr th:only-of-type {\n",
       "        vertical-align: middle;\n",
       "    }\n",
       "\n",
       "    .dataframe tbody tr th {\n",
       "        vertical-align: top;\n",
       "    }\n",
       "\n",
       "    .dataframe thead th {\n",
       "        text-align: right;\n",
       "    }\n",
       "</style>\n",
       "<table border=\"1\" class=\"dataframe\">\n",
       "  <thead>\n",
       "    <tr style=\"text-align: right;\">\n",
       "      <th></th>\n",
       "      <th>open</th>\n",
       "      <th>close</th>\n",
       "      <th>low</th>\n",
       "      <th>high</th>\n",
       "      <th>volume</th>\n",
       "    </tr>\n",
       "  </thead>\n",
       "  <tbody>\n",
       "    <tr>\n",
       "      <th>count</th>\n",
       "      <td>851264.000000</td>\n",
       "      <td>851264.000000</td>\n",
       "      <td>851264.000000</td>\n",
       "      <td>851264.000000</td>\n",
       "      <td>851264.000000</td>\n",
       "    </tr>\n",
       "    <tr>\n",
       "      <th>mean</th>\n",
       "      <td>64.993618</td>\n",
       "      <td>65.011913</td>\n",
       "      <td>64.336541</td>\n",
       "      <td>65.639748</td>\n",
       "      <td>5415112.640027</td>\n",
       "    </tr>\n",
       "    <tr>\n",
       "      <th>std</th>\n",
       "      <td>75.203893</td>\n",
       "      <td>75.201216</td>\n",
       "      <td>74.459518</td>\n",
       "      <td>75.906861</td>\n",
       "      <td>12494681.433081</td>\n",
       "    </tr>\n",
       "    <tr>\n",
       "      <th>min</th>\n",
       "      <td>1.660000</td>\n",
       "      <td>1.590000</td>\n",
       "      <td>1.500000</td>\n",
       "      <td>1.810000</td>\n",
       "      <td>0.000000</td>\n",
       "    </tr>\n",
       "    <tr>\n",
       "      <th>25%</th>\n",
       "      <td>31.270000</td>\n",
       "      <td>31.292776</td>\n",
       "      <td>30.940001</td>\n",
       "      <td>31.620001</td>\n",
       "      <td>1221500.000000</td>\n",
       "    </tr>\n",
       "    <tr>\n",
       "      <th>50%</th>\n",
       "      <td>48.459999</td>\n",
       "      <td>48.480000</td>\n",
       "      <td>47.970001</td>\n",
       "      <td>48.959999</td>\n",
       "      <td>2476250.000000</td>\n",
       "    </tr>\n",
       "    <tr>\n",
       "      <th>75%</th>\n",
       "      <td>75.120003</td>\n",
       "      <td>75.139999</td>\n",
       "      <td>74.400002</td>\n",
       "      <td>75.849998</td>\n",
       "      <td>5222500.000000</td>\n",
       "    </tr>\n",
       "    <tr>\n",
       "      <th>max</th>\n",
       "      <td>1584.439941</td>\n",
       "      <td>1578.130005</td>\n",
       "      <td>1549.939941</td>\n",
       "      <td>1600.930054</td>\n",
       "      <td>859643400.000000</td>\n",
       "    </tr>\n",
       "  </tbody>\n",
       "</table>\n",
       "</div>"
      ],
      "text/plain": [
       "                open          close            low           high  \\\n",
       "count  851264.000000  851264.000000  851264.000000  851264.000000   \n",
       "mean       64.993618      65.011913      64.336541      65.639748   \n",
       "std        75.203893      75.201216      74.459518      75.906861   \n",
       "min         1.660000       1.590000       1.500000       1.810000   \n",
       "25%        31.270000      31.292776      30.940001      31.620001   \n",
       "50%        48.459999      48.480000      47.970001      48.959999   \n",
       "75%        75.120003      75.139999      74.400002      75.849998   \n",
       "max      1584.439941    1578.130005    1549.939941    1600.930054   \n",
       "\n",
       "                 volume  \n",
       "count     851264.000000  \n",
       "mean     5415112.640027  \n",
       "std     12494681.433081  \n",
       "min            0.000000  \n",
       "25%      1221500.000000  \n",
       "50%      2476250.000000  \n",
       "75%      5222500.000000  \n",
       "max    859643400.000000  "
      ]
     },
     "execution_count": 6,
     "metadata": {},
     "output_type": "execute_result"
    }
   ],
   "source": [
    "sorted_pricesplit.describe().apply(lambda s: s.apply(lambda x: format(x, 'f')))"
   ]
  },
  {
   "cell_type": "code",
   "execution_count": 7,
   "metadata": {},
   "outputs": [
    {
     "data": {
      "text/plain": [
       "<seaborn.axisgrid.JointGrid at 0x204d90aaac0>"
      ]
     },
     "execution_count": 7,
     "metadata": {},
     "output_type": "execute_result"
    },
    {
     "data": {
      "image/png": "[encoded data removed]",
      "text/plain": [
       "<Figure size 432x432 with 3 Axes>"
      ]
     },
     "metadata": {
      "needs_background": "light"
     },
     "output_type": "display_data"
    }
   ],
   "source": [
    "sns.jointplot(x='open',y='volume', data=sorted_pricesplit)\n"
   ]
  },
  {
   "cell_type": "markdown",
   "metadata": {},
   "source": [
    "It is noticable through the above joint plot that for a 6 year interval between 2010 and 2016, there is a lot of trading volume for stocks that are in the lower price range as opposed to the higher price range. This refects the general behavior of retail investors as cheaper stocks are easier to invest into with minimal risk. As the prices increase, trading volume decreases significantly even over a long period of time. "
   ]
  },
  {
   "cell_type": "code",
   "execution_count": 8,
   "metadata": {},
   "outputs": [
    {
     "data": {
      "image/png": "[encoded data removed]",
      "text/plain": [
       "<Figure size 432x288 with 1 Axes>"
      ]
     },
     "metadata": {
      "needs_background": "light"
     },
     "output_type": "display_data"
    },
    {
     "data": {
      "image/png": "[encoded data removed]",
      "text/plain": [
       "<Figure size 432x288 with 1 Axes>"
      ]
     },
     "metadata": {
      "needs_background": "light"
     },
     "output_type": "display_data"
    }
   ],
   "source": [
    "#interested_stocks= [\"AAPL\", \"MSFT\"]\n",
    "sorted_pricesplit['date'] = pd.to_datetime(sorted_pricesplit['date'], format='%Y-%m-%d')\n",
    "\n",
    "#Apple 2014 stock split\n",
    "\n",
    "filtered_df = sorted_pricesplit.loc[(sorted_pricesplit['date'] >= '2014-01-01')\n",
    "                     & (sorted_pricesplit['date'] < '2015-01-01')]\n",
    "\n",
    "apple_2014 = filtered_df.loc[filtered_df[\"symbol\"]==\"AAPL\"]\n",
    "plot1=sns.lineplot(x = \"date\", y = \"volume\", data =apple_2014)\n",
    "plot1.set_title(\"Apple stock trading volume - 2014\")\n",
    "plt.show() #Shows volume variation based on the day\n",
    "\n",
    "plot2=sns.lineplot(x = \"date\", y= \"open\", data= apple_2014);\n",
    "plot2.set_title(\"Apple stock price - 2014\")\n",
    "plt.show() #Shows price variation based on the day"
   ]
  },
  {
   "cell_type": "markdown",
   "metadata": {},
   "source": [
    "Apple went through a 7:1 basis stock split on June 9th 2014. It can be observed that in the month of June, there was a sharp increase in trading volume which would be expected considering the drop in share price. The share price however begins to rise as well. This could be because large capital invesotrs tend to have greater sway on the market as opposed to the retail investor. "
   ]
  },
  {
   "cell_type": "markdown",
   "metadata": {},
   "source": [
    "## Method chaining"
   ]
  },
  {
   "cell_type": "code",
   "execution_count": 9,
   "metadata": {},
   "outputs": [],
   "source": [
    "import pandas as pd\n",
    "import seaborn as sns\n",
    "import matplotlib.pyplot as plt"
   ]
  },
  {
   "cell_type": "code",
   "execution_count": 10,
   "metadata": {},
   "outputs": [],
   "source": [
    "def pre_processing(x):\n",
    "\n",
    "    filtered_Df = (\n",
    "    pd.read_csv(x)\n",
    "    .sort_values(by = [\"date\"], ascending = True)\n",
    "    .dropna(axis=0)\n",
    "    \n",
    "    )\n",
    "    return filtered_Df"
   ]
  },
  {
   "cell_type": "code",
   "execution_count": 11,
   "metadata": {},
   "outputs": [
    {
     "data": {
      "text/html": [
       "<div>\n",
       "<style scoped>\n",
       "    .dataframe tbody tr th:only-of-type {\n",
       "        vertical-align: middle;\n",
       "    }\n",
       "\n",
       "    .dataframe tbody tr th {\n",
       "        vertical-align: top;\n",
       "    }\n",
       "\n",
       "    .dataframe thead th {\n",
       "        text-align: right;\n",
       "    }\n",
       "</style>\n",
       "<table border=\"1\" class=\"dataframe\">\n",
       "  <thead>\n",
       "    <tr style=\"text-align: right;\">\n",
       "      <th></th>\n",
       "      <th>date</th>\n",
       "      <th>symbol</th>\n",
       "      <th>open</th>\n",
       "      <th>close</th>\n",
       "      <th>low</th>\n",
       "      <th>high</th>\n",
       "      <th>volume</th>\n",
       "    </tr>\n",
       "  </thead>\n",
       "  <tbody>\n",
       "    <tr>\n",
       "      <th>646</th>\n",
       "      <td>2010-01-04</td>\n",
       "      <td>SYMC</td>\n",
       "      <td>18.040001</td>\n",
       "      <td>18.400000</td>\n",
       "      <td>18.010000</td>\n",
       "      <td>18.530001</td>\n",
       "      <td>8322300.0</td>\n",
       "    </tr>\n",
       "    <tr>\n",
       "      <th>473</th>\n",
       "      <td>2010-01-04</td>\n",
       "      <td>IFF</td>\n",
       "      <td>41.509998</td>\n",
       "      <td>42.009998</td>\n",
       "      <td>41.500000</td>\n",
       "      <td>42.020000</td>\n",
       "      <td>286000.0</td>\n",
       "    </tr>\n",
       "    <tr>\n",
       "      <th>474</th>\n",
       "      <td>2010-01-04</td>\n",
       "      <td>ILMN</td>\n",
       "      <td>31.120001</td>\n",
       "      <td>30.549999</td>\n",
       "      <td>30.420000</td>\n",
       "      <td>31.230000</td>\n",
       "      <td>1793700.0</td>\n",
       "    </tr>\n",
       "    <tr>\n",
       "      <th>475</th>\n",
       "      <td>2010-01-04</td>\n",
       "      <td>INTC</td>\n",
       "      <td>20.790001</td>\n",
       "      <td>20.879999</td>\n",
       "      <td>20.730000</td>\n",
       "      <td>21.030001</td>\n",
       "      <td>47800900.0</td>\n",
       "    </tr>\n",
       "    <tr>\n",
       "      <th>476</th>\n",
       "      <td>2010-01-04</td>\n",
       "      <td>INTU</td>\n",
       "      <td>31.090000</td>\n",
       "      <td>30.809999</td>\n",
       "      <td>30.770000</td>\n",
       "      <td>31.150000</td>\n",
       "      <td>2353000.0</td>\n",
       "    </tr>\n",
       "    <tr>\n",
       "      <th>...</th>\n",
       "      <td>...</td>\n",
       "      <td>...</td>\n",
       "      <td>...</td>\n",
       "      <td>...</td>\n",
       "      <td>...</td>\n",
       "      <td>...</td>\n",
       "      <td>...</td>\n",
       "    </tr>\n",
       "    <tr>\n",
       "      <th>850922</th>\n",
       "      <td>2016-12-30</td>\n",
       "      <td>ES</td>\n",
       "      <td>55.599998</td>\n",
       "      <td>55.230000</td>\n",
       "      <td>55.070000</td>\n",
       "      <td>55.740002</td>\n",
       "      <td>1446800.0</td>\n",
       "    </tr>\n",
       "    <tr>\n",
       "      <th>850921</th>\n",
       "      <td>2016-12-30</td>\n",
       "      <td>EQT</td>\n",
       "      <td>65.699997</td>\n",
       "      <td>65.400002</td>\n",
       "      <td>65.050003</td>\n",
       "      <td>66.470001</td>\n",
       "      <td>1242100.0</td>\n",
       "    </tr>\n",
       "    <tr>\n",
       "      <th>850920</th>\n",
       "      <td>2016-12-30</td>\n",
       "      <td>EQR</td>\n",
       "      <td>63.590000</td>\n",
       "      <td>64.360001</td>\n",
       "      <td>63.189999</td>\n",
       "      <td>64.440002</td>\n",
       "      <td>1534000.0</td>\n",
       "    </tr>\n",
       "    <tr>\n",
       "      <th>850933</th>\n",
       "      <td>2016-12-30</td>\n",
       "      <td>EXR</td>\n",
       "      <td>75.669998</td>\n",
       "      <td>77.239998</td>\n",
       "      <td>75.110001</td>\n",
       "      <td>77.300003</td>\n",
       "      <td>884400.0</td>\n",
       "    </tr>\n",
       "    <tr>\n",
       "      <th>851263</th>\n",
       "      <td>2016-12-30</td>\n",
       "      <td>FTV</td>\n",
       "      <td>54.200001</td>\n",
       "      <td>53.630001</td>\n",
       "      <td>53.389999</td>\n",
       "      <td>54.480000</td>\n",
       "      <td>705100.0</td>\n",
       "    </tr>\n",
       "  </tbody>\n",
       "</table>\n",
       "<p>851264 rows × 7 columns</p>\n",
       "</div>"
      ],
      "text/plain": [
       "              date symbol       open      close        low       high  \\\n",
       "646     2010-01-04   SYMC  18.040001  18.400000  18.010000  18.530001   \n",
       "473     2010-01-04    IFF  41.509998  42.009998  41.500000  42.020000   \n",
       "474     2010-01-04   ILMN  31.120001  30.549999  30.420000  31.230000   \n",
       "475     2010-01-04   INTC  20.790001  20.879999  20.730000  21.030001   \n",
       "476     2010-01-04   INTU  31.090000  30.809999  30.770000  31.150000   \n",
       "...            ...    ...        ...        ...        ...        ...   \n",
       "850922  2016-12-30     ES  55.599998  55.230000  55.070000  55.740002   \n",
       "850921  2016-12-30    EQT  65.699997  65.400002  65.050003  66.470001   \n",
       "850920  2016-12-30    EQR  63.590000  64.360001  63.189999  64.440002   \n",
       "850933  2016-12-30    EXR  75.669998  77.239998  75.110001  77.300003   \n",
       "851263  2016-12-30    FTV  54.200001  53.630001  53.389999  54.480000   \n",
       "\n",
       "            volume  \n",
       "646      8322300.0  \n",
       "473       286000.0  \n",
       "474      1793700.0  \n",
       "475     47800900.0  \n",
       "476      2353000.0  \n",
       "...            ...  \n",
       "850922   1446800.0  \n",
       "850921   1242100.0  \n",
       "850920   1534000.0  \n",
       "850933    884400.0  \n",
       "851263    705100.0  \n",
       "\n",
       "[851264 rows x 7 columns]"
      ]
     },
     "execution_count": 11,
     "metadata": {},
     "output_type": "execute_result"
    }
   ],
   "source": [
    "pre_processing('../data/raw/prices-split-adjusted.csv')"
   ]
  },
  {
   "cell_type": "markdown",
   "metadata": {},
   "source": [
    "## Module Testing"
   ]
  },
  {
   "cell_type": "code",
   "execution_count": 12,
   "metadata": {},
   "outputs": [
    {
     "ename": "NameError",
     "evalue": "name 'p2' is not defined",
     "output_type": "error",
     "traceback": [
      "\u001b[1;31m---------------------------------------------------------------------------\u001b[0m",
      "\u001b[1;31mNameError\u001b[0m                                 Traceback (most recent call last)",
      "Input \u001b[1;32mIn [12]\u001b[0m, in \u001b[0;36m<module>\u001b[1;34m\u001b[0m\n\u001b[1;32m----> 1\u001b[0m df \u001b[38;5;241m=\u001b[39m \u001b[43mp2\u001b[49m\u001b[38;5;241m.\u001b[39mload_and_process(\u001b[38;5;124m'\u001b[39m\u001b[38;5;124m../data/raw/prices.csv\u001b[39m\u001b[38;5;124m'\u001b[39m)\n",
      "\u001b[1;31mNameError\u001b[0m: name 'p2' is not defined"
     ]
    }
   ],
   "source": [
    "df = p2.load_and_process('../data/raw/prices.csv')"
   ]
  },
  {
   "cell_type": "code",
   "execution_count": null,
   "metadata": {},
   "outputs": [],
   "source": []
  }
 ],
 "metadata": {
  "kernelspec": {
   "display_name": "Python 3 (ipykernel)",
   "language": "python",
   "name": "python3"
  },
  "language_info": {
   "codemirror_mode": {
    "name": "ipython",
    "version": 3
   },
   "file_extension": ".py",
   "mimetype": "text/x-python",
   "name": "python",
   "nbconvert_exporter": "python",
   "pygments_lexer": "ipython3",
   "version": "3.9.13"
  },
  "vscode": {
   "interpreter": {
    "hash": "8f8b4b4e3e62b639b251d1c535d200366b8387000c1d4bce0694f32dda5c6b47"
   }
  }
 },
 "nbformat": 4,
 "nbformat_minor": 4
}
