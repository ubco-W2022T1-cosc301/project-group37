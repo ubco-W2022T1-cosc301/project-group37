{
 "cells": [
  {
   "cell_type": "markdown",
   "metadata": {},
   "source": [
    "# Rimple Singh"
   ]
  },
  {
   "cell_type": "markdown",
   "metadata": {},
   "source": [
    "## Research question/interests\n",
    "\n",
    "I will be looking to perform thorough analysis of the research data to visualize stock performances and predict future performance given the factors affecting the performance."
   ]
  },
  {
   "cell_type": "code",
   "execution_count": 1,
   "metadata": {},
   "outputs": [],
   "source": [
    "import pandas as pd\n",
    "\n",
    "fundamentalsDf = pd.read_csv('../data/raw/fundamentals.csv')\n",
    "pricesplitDf = pd.read_csv('../data/raw/prices-split-adjusted.csv')\n",
    "pricesDf = pd.read_csv('../data/raw/prices.csv')\n",
    "securitiesDf = pd.read_csv('../data/raw/securities.csv')"
   ]
  },
  {
   "cell_type": "code",
   "execution_count": null,
   "metadata": {},
   "outputs": [],
   "source": []
  }
 ],
 "metadata": {
  "kernelspec": {
   "display_name": "Python 3",
   "language": "python",
   "name": "python3"
  },
  "language_info": {
   "codemirror_mode": {
    "name": "ipython",
    "version": 3
   },
   "file_extension": ".py",
   "mimetype": "text/x-python",
   "name": "python",
   "nbconvert_exporter": "python",
   "pygments_lexer": "ipython3",
   "version": "3.9.13"
  },
  "vscode": {
   "interpreter": {
    "hash": "8f8b4b4e3e62b639b251d1c535d200366b8387000c1d4bce0694f32dda5c6b47"
   }
  }
 },
 "nbformat": 4,
 "nbformat_minor": 4
}
